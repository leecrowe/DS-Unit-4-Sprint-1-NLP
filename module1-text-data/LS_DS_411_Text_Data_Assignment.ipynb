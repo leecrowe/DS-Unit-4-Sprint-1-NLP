{
 "cells": [
  {
   "cell_type": "markdown",
   "metadata": {},
   "source": [
    "<img align=\"left\" src=\"https://lever-client-logos.s3.amazonaws.com/864372b1-534c-480e-acd5-9711f850815c-1524247202159.png\" width=200>\n",
    "<br></br>\n",
    "<br></br>\n",
    "\n",
    "# Natural Language Processing (NLP)\n",
    "## *Data Science Unit 4 Sprint 1 Assignment 1*\n",
    "\n",
    "Your goal in this assignment: find the attributes of the best & worst coffee shops in the dataset. The text is fairly raw: dates in the review, extra words in the `star_rating` column, etc. You'll probably want to clean that stuff up for a better analysis. \n",
    "\n",
    "Analyze the corpus of text using text visualizations of token frequency. Try cleaning the data as much as possible. Try the following techniques: \n",
    "- Lemmatization\n",
    "- Custom stopword removal\n",
    "\n",
    "Keep in mind the attributes of good tokens. Once you have a solid baseline, layer in the star rating in your visualization(s). Key part of this assignment - produce a write-up of the attributes of the best and worst coffee shops. Based on your analysis, what makes the best the best and the worst the worst. Use graphs and numbers from your analysis to support your conclusions. There should be plenty of markdown cells! :coffee:"
   ]
  },
  {
   "cell_type": "code",
   "execution_count": 1,
   "metadata": {},
   "outputs": [
    {
     "data": {
      "image/jpeg": "[encoded data removed]",
      "text/html": [
       "\n",
       "        <iframe\n",
       "            width=\"400\"\n",
       "            height=\"300\"\n",
       "            src=\"https://www.youtube.com/embed/Jml7NVYm8cs\"\n",
       "            frameborder=\"0\"\n",
       "            allowfullscreen\n",
       "        ></iframe>\n",
       "        "
      ],
      "text/plain": [
       "<IPython.lib.display.YouTubeVideo at 0x1bd33d8bb38>"
      ]
     },
     "execution_count": 1,
     "metadata": {},
     "output_type": "execute_result"
    }
   ],
   "source": [
    "from IPython.display import YouTubeVideo\n",
    "\n",
    "YouTubeVideo('Jml7NVYm8cs')"
   ]
  },
  {
   "cell_type": "code",
   "execution_count": 2,
   "metadata": {},
   "outputs": [
    {
     "data": {
      "text/plain": [
       "'C:\\\\Users\\\\Neal\\\\Documents\\\\Lambda_Classnotes\\\\lambdata_ds11\\\\DS-Unit-4-Sprint-1-NLP\\\\module1-text-data'"
      ]
     },
     "execution_count": 2,
     "metadata": {},
     "output_type": "execute_result"
    }
   ],
   "source": [
    "%pwd"
   ]
  },
  {
   "cell_type": "code",
   "execution_count": 3,
   "metadata": {},
   "outputs": [
    {
     "data": {
      "text/html": [
       "<div>\n",
       "<style scoped>\n",
       "    .dataframe tbody tr th:only-of-type {\n",
       "        vertical-align: middle;\n",
       "    }\n",
       "\n",
       "    .dataframe tbody tr th {\n",
       "        vertical-align: top;\n",
       "    }\n",
       "\n",
       "    .dataframe thead th {\n",
       "        text-align: right;\n",
       "    }\n",
       "</style>\n",
       "<table border=\"1\" class=\"dataframe\">\n",
       "  <thead>\n",
       "    <tr style=\"text-align: right;\">\n",
       "      <th></th>\n",
       "      <th>coffee_shop_name</th>\n",
       "      <th>full_review_text</th>\n",
       "      <th>star_rating</th>\n",
       "    </tr>\n",
       "  </thead>\n",
       "  <tbody>\n",
       "    <tr>\n",
       "      <th>0</th>\n",
       "      <td>The Factory - Cafe With a Soul</td>\n",
       "      <td>11/25/2016 1 check-in Love love loved the atm...</td>\n",
       "      <td>5.0 star rating</td>\n",
       "    </tr>\n",
       "    <tr>\n",
       "      <th>1</th>\n",
       "      <td>The Factory - Cafe With a Soul</td>\n",
       "      <td>12/2/2016 Listed in Date Night: Austin, Ambia...</td>\n",
       "      <td>4.0 star rating</td>\n",
       "    </tr>\n",
       "    <tr>\n",
       "      <th>2</th>\n",
       "      <td>The Factory - Cafe With a Soul</td>\n",
       "      <td>11/30/2016 1 check-in Listed in Brunch Spots ...</td>\n",
       "      <td>4.0 star rating</td>\n",
       "    </tr>\n",
       "    <tr>\n",
       "      <th>3</th>\n",
       "      <td>The Factory - Cafe With a Soul</td>\n",
       "      <td>11/25/2016 Very cool decor! Good drinks Nice ...</td>\n",
       "      <td>2.0 star rating</td>\n",
       "    </tr>\n",
       "    <tr>\n",
       "      <th>4</th>\n",
       "      <td>The Factory - Cafe With a Soul</td>\n",
       "      <td>12/3/2016 1 check-in They are located within ...</td>\n",
       "      <td>4.0 star rating</td>\n",
       "    </tr>\n",
       "  </tbody>\n",
       "</table>\n",
       "</div>"
      ],
      "text/plain": [
       "                  coffee_shop_name  \\\n",
       "0  The Factory - Cafe With a Soul    \n",
       "1  The Factory - Cafe With a Soul    \n",
       "2  The Factory - Cafe With a Soul    \n",
       "3  The Factory - Cafe With a Soul    \n",
       "4  The Factory - Cafe With a Soul    \n",
       "\n",
       "                                    full_review_text        star_rating  \n",
       "0   11/25/2016 1 check-in Love love loved the atm...   5.0 star rating   \n",
       "1   12/2/2016 Listed in Date Night: Austin, Ambia...   4.0 star rating   \n",
       "2   11/30/2016 1 check-in Listed in Brunch Spots ...   4.0 star rating   \n",
       "3   11/25/2016 Very cool decor! Good drinks Nice ...   2.0 star rating   \n",
       "4   12/3/2016 1 check-in They are located within ...   4.0 star rating   "
      ]
     },
     "execution_count": 3,
     "metadata": {},
     "output_type": "execute_result"
    }
   ],
   "source": [
    "import pandas as pd\n",
    "\n",
    "url = \"https://raw.githubusercontent.com/LambdaSchool/DS-Unit-4-Sprint-1-NLP/master/module1-text-data/data/yelp_coffeeshop_review_data.csv\"\n",
    "\n",
    "shops = pd.read_csv(url)\n",
    "shops.head()"
   ]
  },
  {
   "cell_type": "code",
   "execution_count": 16,
   "metadata": {},
   "outputs": [
    {
     "data": {
      "text/plain": [
       "7616"
      ]
     },
     "execution_count": 16,
     "metadata": {},
     "output_type": "execute_result"
    }
   ],
   "source": [
    "len(shops)"
   ]
  },
  {
   "cell_type": "markdown",
   "metadata": {},
   "source": [
    "## Make a new column for the star rating as just an int"
   ]
  },
  {
   "cell_type": "code",
   "execution_count": 4,
   "metadata": {},
   "outputs": [
    {
     "data": {
      "text/plain": [
       " 5.0 star rating     3780\n",
       " 4.0 star rating     2360\n",
       " 3.0 star rating      738\n",
       " 2.0 star rating      460\n",
       " 1.0 star rating      278\n",
       "Name: star_rating, dtype: int64"
      ]
     },
     "execution_count": 4,
     "metadata": {},
     "output_type": "execute_result"
    }
   ],
   "source": [
    "# check the values\n",
    "shops['star_rating'].value_counts()"
   ]
  },
  {
   "cell_type": "code",
   "execution_count": 8,
   "metadata": {},
   "outputs": [
    {
     "data": {
      "text/plain": [
       "0        5.0 star rating \n",
       "1        4.0 star rating \n",
       "2        4.0 star rating \n",
       "3        2.0 star rating \n",
       "4        4.0 star rating \n",
       "              ...        \n",
       "7611     4.0 star rating \n",
       "7612     5.0 star rating \n",
       "7613     4.0 star rating \n",
       "7614     3.0 star rating \n",
       "7615     4.0 star rating \n",
       "Name: star_rating, Length: 7616, dtype: object"
      ]
     },
     "execution_count": 8,
     "metadata": {},
     "output_type": "execute_result"
    }
   ],
   "source": [
    "shops['star_rating']"
   ]
  },
  {
   "cell_type": "code",
   "execution_count": 9,
   "metadata": {},
   "outputs": [
    {
     "data": {
      "text/plain": [
       "0       5\n",
       "1       4\n",
       "2       4\n",
       "3       2\n",
       "4       4\n",
       "       ..\n",
       "7611    4\n",
       "7612    5\n",
       "7613    4\n",
       "7614    3\n",
       "7615    4\n",
       "Name: star_rating, Length: 7616, dtype: object"
      ]
     },
     "execution_count": 9,
     "metadata": {},
     "output_type": "execute_result"
    }
   ],
   "source": [
    "# Since the ratings are all whole numbers we can just extract that value\n",
    "shops['star_rating'].astype(str).str[1]"
   ]
  },
  {
   "cell_type": "code",
   "execution_count": 10,
   "metadata": {},
   "outputs": [],
   "source": [
    "shops['stars'] = shops['star_rating'].astype(str).str[1]"
   ]
  },
  {
   "cell_type": "code",
   "execution_count": 12,
   "metadata": {},
   "outputs": [],
   "source": [
    "# Recast as int now\n",
    "shops['stars'] = shops['stars'].astype(int)"
   ]
  },
  {
   "cell_type": "code",
   "execution_count": 15,
   "metadata": {},
   "outputs": [
    {
     "name": "stdout",
     "output_type": "stream",
     "text": [
      " 11/25/2016 1 check-in Love love loved the atmosphere! Every corner of the coffee shop had its own style, and there were swings!!! I ordered the matcha latte, and it was muy fantastico! Ordering and getting my drink were pretty streamlined. I ordered on an iPad, which included all beverage selections that ranged from coffee to wine, desired level of sweetness, and a checkout system. I got my latte within minutes!  I was hoping for a typical heart or feather on my latte, but found myself listing out all the possibilities of what the art may be. Any ideas? \n",
      "----------------------------------------\n",
      " 12/2/2016 Listed in Date Night: Austin, Ambiance in Austin BEAUTIFUL!!!! Love the ambiance! Instagram-worthy!!!  Definitely $$$, so be prepared. This is gonna cost you a pretty penny :) Waffle dessert was just decent...nothing to rave about.  But, will probably be back just to be somewhere unique and nice. \n",
      "----------------------------------------\n",
      " 11/30/2016 1 check-in Listed in Brunch Spots I loved the eclectic and homey plush decor and who doesn't want to swing and drink their coffee?  I would categorize this as a pricier coffee place but, to me it was worth it.  After Thanksgiving nobody wants to make brunch so we headed out in search of chicken and waffles.  There is ample parking in the private lot and  ordering is done through I-Pads.  Pick a seat and they will call your name when your items are ready.  Be patient because some of the coffee drinks take longer than others.  I had the cold brew coffee, chicken and waffles and we shared a pop+art!  The po+art was strawberry; light and fluffy on the outside and gooey sweet filling on the inside.  The chicken and waffles wasn't the standard so expect different, complex and interesting flavors from the accompanying slaw and sauce.  I thoroughly enjoyed it but, the waffle was a bit bland and maybe could have used a bit of honey to spruce it up.  The coffee here is spot on and I hear that their hot chocolate is the bomb but, I will have to wait for the weather to cool off to try that.  A great place to be cozy and chat with your friends, a date or read a book. Chicken and waffles Pop tart Coffee See all photos from Carmela S. for The Factory - Cafe With a Soul \n",
      "----------------------------------------\n",
      " 11/25/2016 Very cool decor! Good drinks Nice seating  However...  Just about everything is overpriced. $1.50 extra for 3 ounces of Almond Milk in a cortado. No WiFi Music is a bit loud and the mix is odd.  Pleasant French oldies followed by loud techno. Several tables were dirty when we got there. Service is average.  It feels like a Los Angeles coffee shot that is out of place. \n",
      "----------------------------------------\n",
      " 12/3/2016 1 check-in They are located within the Northcross mall shopping center facing east toward Burnet Rd with plenty of parking. I loved their computerized user friendly ordering system, it made it easy me to pick & choose all the items I wanted to try. I ordered pop tart, chicken & waffles, strawberry waffles (photos uploaded). This place is ideal for ordering a few dishes to share with your group. Seating is limited since this place is fairly new with lots of visitors. Arrive early and be prepared to wait a bit if you with a large grop. Store front facing Burnet Rd See all photos from Michelle A. for The Factory - Cafe With a Soul \n",
      "----------------------------------------\n"
     ]
    }
   ],
   "source": [
    "# I want to look at the whole text of some reviews\n",
    "for i in range(5):\n",
    "    print(shops['full_review_text'][i])\n",
    "    print('-'*40)"
   ]
  },
  {
   "cell_type": "markdown",
   "metadata": {},
   "source": [
    "## Get rid of the dates"
   ]
  },
  {
   "cell_type": "code",
   "execution_count": 17,
   "metadata": {},
   "outputs": [],
   "source": [
    "import re"
   ]
  },
  {
   "cell_type": "code",
   "execution_count": 32,
   "metadata": {},
   "outputs": [],
   "source": [
    "def date_strip(text):\n",
    "    \"\"\" Takes a string and removes a date of the format ##/##/#### if any.\n",
    "    \n",
    "    Args: text (str) to strip a date from.\n",
    "    \n",
    "    Returns: text (str) without the date.\n",
    "    \"\"\"\n",
    "    #new_text = re.sub('\\d{2}/\\d{2}/\\d{4}', '', text)\n",
    "    new_text = re.sub('\\d+/\\d+/\\d+', '', text)\n",
    "    \n",
    "    return new_text\n",
    "    "
   ]
  },
  {
   "cell_type": "code",
   "execution_count": 22,
   "metadata": {},
   "outputs": [
    {
     "data": {
      "text/plain": [
       "str"
      ]
     },
     "execution_count": 22,
     "metadata": {},
     "output_type": "execute_result"
    }
   ],
   "source": [
    "type(shops['full_review_text'][0])"
   ]
  },
  {
   "cell_type": "code",
   "execution_count": 33,
   "metadata": {},
   "outputs": [
    {
     "data": {
      "text/plain": [
       "'  1 check-in Love love loved the atmosphere! Every corner of the coffee shop had its own style, and there were swings!!! I ordered the matcha latte, and it was muy fantastico! Ordering and getting my drink were pretty streamlined. I ordered on an iPad, which included all beverage selections that ranged from coffee to wine, desired level of sweetness, and a checkout system. I got my latte within minutes!  I was hoping for a typical heart or feather on my latte, but found myself listing out all the possibilities of what the art may be. Any ideas? '"
      ]
     },
     "execution_count": 33,
     "metadata": {},
     "output_type": "execute_result"
    }
   ],
   "source": [
    "date_strip(shops['full_review_text'][0])"
   ]
  },
  {
   "cell_type": "code",
   "execution_count": 34,
   "metadata": {},
   "outputs": [
    {
     "name": "stderr",
     "output_type": "stream",
     "text": [
      "C:\\Users\\Neal\\Anaconda3\\envs\\U4-NLP\\lib\\site-packages\\ipykernel_launcher.py:3: SettingWithCopyWarning: \n",
      "A value is trying to be set on a copy of a slice from a DataFrame\n",
      "\n",
      "See the caveats in the documentation: https://pandas.pydata.org/pandas-docs/stable/user_guide/indexing.html#returning-a-view-versus-a-copy\n",
      "  This is separate from the ipykernel package so we can avoid doing imports until\n"
     ]
    }
   ],
   "source": [
    "shops['review_no_date'] = ''\n",
    "for i in range(len(shops)):\n",
    "    shops['review_no_date'][i] = date_strip(shops['full_review_text'][i])\n",
    "    "
   ]
  },
  {
   "cell_type": "code",
   "execution_count": 35,
   "metadata": {},
   "outputs": [
    {
     "data": {
      "text/html": [
       "<div>\n",
       "<style scoped>\n",
       "    .dataframe tbody tr th:only-of-type {\n",
       "        vertical-align: middle;\n",
       "    }\n",
       "\n",
       "    .dataframe tbody tr th {\n",
       "        vertical-align: top;\n",
       "    }\n",
       "\n",
       "    .dataframe thead th {\n",
       "        text-align: right;\n",
       "    }\n",
       "</style>\n",
       "<table border=\"1\" class=\"dataframe\">\n",
       "  <thead>\n",
       "    <tr style=\"text-align: right;\">\n",
       "      <th></th>\n",
       "      <th>coffee_shop_name</th>\n",
       "      <th>full_review_text</th>\n",
       "      <th>star_rating</th>\n",
       "      <th>stars</th>\n",
       "      <th>review_no_date</th>\n",
       "    </tr>\n",
       "  </thead>\n",
       "  <tbody>\n",
       "    <tr>\n",
       "      <th>0</th>\n",
       "      <td>The Factory - Cafe With a Soul</td>\n",
       "      <td>11/25/2016 1 check-in Love love loved the atm...</td>\n",
       "      <td>5.0 star rating</td>\n",
       "      <td>5</td>\n",
       "      <td>1 check-in Love love loved the atmosphere! E...</td>\n",
       "    </tr>\n",
       "    <tr>\n",
       "      <th>1</th>\n",
       "      <td>The Factory - Cafe With a Soul</td>\n",
       "      <td>12/2/2016 Listed in Date Night: Austin, Ambia...</td>\n",
       "      <td>4.0 star rating</td>\n",
       "      <td>4</td>\n",
       "      <td>Listed in Date Night: Austin, Ambiance in Au...</td>\n",
       "    </tr>\n",
       "    <tr>\n",
       "      <th>2</th>\n",
       "      <td>The Factory - Cafe With a Soul</td>\n",
       "      <td>11/30/2016 1 check-in Listed in Brunch Spots ...</td>\n",
       "      <td>4.0 star rating</td>\n",
       "      <td>4</td>\n",
       "      <td>1 check-in Listed in Brunch Spots I loved th...</td>\n",
       "    </tr>\n",
       "    <tr>\n",
       "      <th>3</th>\n",
       "      <td>The Factory - Cafe With a Soul</td>\n",
       "      <td>11/25/2016 Very cool decor! Good drinks Nice ...</td>\n",
       "      <td>2.0 star rating</td>\n",
       "      <td>2</td>\n",
       "      <td>Very cool decor! Good drinks Nice seating  H...</td>\n",
       "    </tr>\n",
       "    <tr>\n",
       "      <th>4</th>\n",
       "      <td>The Factory - Cafe With a Soul</td>\n",
       "      <td>12/3/2016 1 check-in They are located within ...</td>\n",
       "      <td>4.0 star rating</td>\n",
       "      <td>4</td>\n",
       "      <td>1 check-in They are located within the North...</td>\n",
       "    </tr>\n",
       "  </tbody>\n",
       "</table>\n",
       "</div>"
      ],
      "text/plain": [
       "                  coffee_shop_name  \\\n",
       "0  The Factory - Cafe With a Soul    \n",
       "1  The Factory - Cafe With a Soul    \n",
       "2  The Factory - Cafe With a Soul    \n",
       "3  The Factory - Cafe With a Soul    \n",
       "4  The Factory - Cafe With a Soul    \n",
       "\n",
       "                                    full_review_text        star_rating  \\\n",
       "0   11/25/2016 1 check-in Love love loved the atm...   5.0 star rating    \n",
       "1   12/2/2016 Listed in Date Night: Austin, Ambia...   4.0 star rating    \n",
       "2   11/30/2016 1 check-in Listed in Brunch Spots ...   4.0 star rating    \n",
       "3   11/25/2016 Very cool decor! Good drinks Nice ...   2.0 star rating    \n",
       "4   12/3/2016 1 check-in They are located within ...   4.0 star rating    \n",
       "\n",
       "   stars                                     review_no_date  \n",
       "0      5    1 check-in Love love loved the atmosphere! E...  \n",
       "1      4    Listed in Date Night: Austin, Ambiance in Au...  \n",
       "2      4    1 check-in Listed in Brunch Spots I loved th...  \n",
       "3      2    Very cool decor! Good drinks Nice seating  H...  \n",
       "4      4    1 check-in They are located within the North...  "
      ]
     },
     "execution_count": 35,
     "metadata": {},
     "output_type": "execute_result"
    }
   ],
   "source": [
    "shops.head()"
   ]
  },
  {
   "cell_type": "markdown",
   "metadata": {},
   "source": [
    "## How do we want to analyze these coffee shop tokens? \n",
    "\n",
    "- Overall Word / Token Count\n",
    "- View Counts by Rating \n",
    "- *Hint:* a 'bad' coffee shops has a rating betweeen 1 & 3 based on the distribution of ratings. A 'good' coffee shop is a 4 or 5. "
   ]
  },
  {
   "cell_type": "code",
   "execution_count": 36,
   "metadata": {},
   "outputs": [],
   "source": [
    "\"\"\"\n",
    "Import Statements\n",
    "\"\"\"\n",
    "\n",
    "# Base\n",
    "from collections import Counter\n",
    "import re  # I know I already imported this above.\n",
    " \n",
    "import pandas as pd\n",
    "\n",
    "# Plotting\n",
    "import squarify\n",
    "import matplotlib.pyplot as plt\n",
    "import seaborn as sns\n",
    "\n",
    "# NLP Libraries\n",
    "import spacy\n",
    "from spacy.tokenizer import Tokenizer\n",
    "from nltk.stem import PorterStemmer"
   ]
  },
  {
   "cell_type": "code",
   "execution_count": 38,
   "metadata": {},
   "outputs": [],
   "source": [
    "def tokenize(text):\n",
    "    \"\"\" from Jon-Cody Sokoll\n",
    "    Parses a string into a list of semantic units (words)\n",
    "\n",
    "    Args:\n",
    "        text (str): The string that the function will tokenize.\n",
    "\n",
    "    Returns:\n",
    "        list: tokens parsed out by the mechanics of your choice\n",
    "    \"\"\"\n",
    "    \n",
    "    tokens = re.sub(r'', '', text)\n",
    "    tokens = tokens.lower().split()\n",
    "    \n",
    "    return tokens"
   ]
  },
  {
   "cell_type": "code",
   "execution_count": 39,
   "metadata": {},
   "outputs": [],
   "source": [
    "shops['tokens'] = shops['review_no_date'].apply(tokenize)"
   ]
  },
  {
   "cell_type": "code",
   "execution_count": 40,
   "metadata": {},
   "outputs": [
    {
     "data": {
      "text/plain": [
       "0       [1, check-in, love, love, loved, the, atmosphe...\n",
       "1       [listed, in, date, night:, austin,, ambiance, ...\n",
       "2       [1, check-in, listed, in, brunch, spots, i, lo...\n",
       "3       [very, cool, decor!, good, drinks, nice, seati...\n",
       "4       [1, check-in, they, are, located, within, the,...\n",
       "                              ...                        \n",
       "7611    [i, actually, step, into, this, restaurant, by...\n",
       "7612    [ok,, the, steeping, room, is, awesome., how, ...\n",
       "7613    [loved, coming, here, for, tea,, and, the, atm...\n",
       "7614    [the, food, is, just, average., the, booths, d...\n",
       "7615    [i, finally, stopped, in, for, lunch, with, my...\n",
       "Name: tokens, Length: 7616, dtype: object"
      ]
     },
     "execution_count": 40,
     "metadata": {},
     "output_type": "execute_result"
    }
   ],
   "source": [
    "shops['tokens']"
   ]
  },
  {
   "cell_type": "code",
   "execution_count": 44,
   "metadata": {},
   "outputs": [],
   "source": [
    "shops['token_count'] = shops['tokens'].str.len()"
   ]
  },
  {
   "cell_type": "code",
   "execution_count": 45,
   "metadata": {},
   "outputs": [
    {
     "data": {
      "text/html": [
       "<div>\n",
       "<style scoped>\n",
       "    .dataframe tbody tr th:only-of-type {\n",
       "        vertical-align: middle;\n",
       "    }\n",
       "\n",
       "    .dataframe tbody tr th {\n",
       "        vertical-align: top;\n",
       "    }\n",
       "\n",
       "    .dataframe thead th {\n",
       "        text-align: right;\n",
       "    }\n",
       "</style>\n",
       "<table border=\"1\" class=\"dataframe\">\n",
       "  <thead>\n",
       "    <tr style=\"text-align: right;\">\n",
       "      <th></th>\n",
       "      <th>coffee_shop_name</th>\n",
       "      <th>full_review_text</th>\n",
       "      <th>star_rating</th>\n",
       "      <th>stars</th>\n",
       "      <th>review_no_date</th>\n",
       "      <th>tokens</th>\n",
       "      <th>token_count</th>\n",
       "    </tr>\n",
       "  </thead>\n",
       "  <tbody>\n",
       "    <tr>\n",
       "      <th>0</th>\n",
       "      <td>The Factory - Cafe With a Soul</td>\n",
       "      <td>11/25/2016 1 check-in Love love loved the atm...</td>\n",
       "      <td>5.0 star rating</td>\n",
       "      <td>5</td>\n",
       "      <td>1 check-in Love love loved the atmosphere! E...</td>\n",
       "      <td>[1, check-in, love, love, loved, the, atmosphe...</td>\n",
       "      <td>97</td>\n",
       "    </tr>\n",
       "    <tr>\n",
       "      <th>1</th>\n",
       "      <td>The Factory - Cafe With a Soul</td>\n",
       "      <td>12/2/2016 Listed in Date Night: Austin, Ambia...</td>\n",
       "      <td>4.0 star rating</td>\n",
       "      <td>4</td>\n",
       "      <td>Listed in Date Night: Austin, Ambiance in Au...</td>\n",
       "      <td>[listed, in, date, night:, austin,, ambiance, ...</td>\n",
       "      <td>47</td>\n",
       "    </tr>\n",
       "    <tr>\n",
       "      <th>2</th>\n",
       "      <td>The Factory - Cafe With a Soul</td>\n",
       "      <td>11/30/2016 1 check-in Listed in Brunch Spots ...</td>\n",
       "      <td>4.0 star rating</td>\n",
       "      <td>4</td>\n",
       "      <td>1 check-in Listed in Brunch Spots I loved th...</td>\n",
       "      <td>[1, check-in, listed, in, brunch, spots, i, lo...</td>\n",
       "      <td>240</td>\n",
       "    </tr>\n",
       "    <tr>\n",
       "      <th>3</th>\n",
       "      <td>The Factory - Cafe With a Soul</td>\n",
       "      <td>11/25/2016 Very cool decor! Good drinks Nice ...</td>\n",
       "      <td>2.0 star rating</td>\n",
       "      <td>2</td>\n",
       "      <td>Very cool decor! Good drinks Nice seating  H...</td>\n",
       "      <td>[very, cool, decor!, good, drinks, nice, seati...</td>\n",
       "      <td>67</td>\n",
       "    </tr>\n",
       "    <tr>\n",
       "      <th>4</th>\n",
       "      <td>The Factory - Cafe With a Soul</td>\n",
       "      <td>12/3/2016 1 check-in They are located within ...</td>\n",
       "      <td>4.0 star rating</td>\n",
       "      <td>4</td>\n",
       "      <td>1 check-in They are located within the North...</td>\n",
       "      <td>[1, check-in, they, are, located, within, the,...</td>\n",
       "      <td>116</td>\n",
       "    </tr>\n",
       "  </tbody>\n",
       "</table>\n",
       "</div>"
      ],
      "text/plain": [
       "                  coffee_shop_name  \\\n",
       "0  The Factory - Cafe With a Soul    \n",
       "1  The Factory - Cafe With a Soul    \n",
       "2  The Factory - Cafe With a Soul    \n",
       "3  The Factory - Cafe With a Soul    \n",
       "4  The Factory - Cafe With a Soul    \n",
       "\n",
       "                                    full_review_text        star_rating  \\\n",
       "0   11/25/2016 1 check-in Love love loved the atm...   5.0 star rating    \n",
       "1   12/2/2016 Listed in Date Night: Austin, Ambia...   4.0 star rating    \n",
       "2   11/30/2016 1 check-in Listed in Brunch Spots ...   4.0 star rating    \n",
       "3   11/25/2016 Very cool decor! Good drinks Nice ...   2.0 star rating    \n",
       "4   12/3/2016 1 check-in They are located within ...   4.0 star rating    \n",
       "\n",
       "   stars                                     review_no_date  \\\n",
       "0      5    1 check-in Love love loved the atmosphere! E...   \n",
       "1      4    Listed in Date Night: Austin, Ambiance in Au...   \n",
       "2      4    1 check-in Listed in Brunch Spots I loved th...   \n",
       "3      2    Very cool decor! Good drinks Nice seating  H...   \n",
       "4      4    1 check-in They are located within the North...   \n",
       "\n",
       "                                              tokens  token_count  \n",
       "0  [1, check-in, love, love, loved, the, atmosphe...           97  \n",
       "1  [listed, in, date, night:, austin,, ambiance, ...           47  \n",
       "2  [1, check-in, listed, in, brunch, spots, i, lo...          240  \n",
       "3  [very, cool, decor!, good, drinks, nice, seati...           67  \n",
       "4  [1, check-in, they, are, located, within, the,...          116  "
      ]
     },
     "execution_count": 45,
     "metadata": {},
     "output_type": "execute_result"
    }
   ],
   "source": [
    "shops.head()"
   ]
  },
  {
   "cell_type": "code",
   "execution_count": 49,
   "metadata": {},
   "outputs": [
    {
     "data": {
      "text/plain": [
       "stars\n",
       "1    124.276978\n",
       "2    125.821739\n",
       "3    117.682927\n",
       "4    109.948729\n",
       "5     89.741270\n",
       "Name: token_count, dtype: float64"
      ]
     },
     "execution_count": 49,
     "metadata": {},
     "output_type": "execute_result"
    }
   ],
   "source": [
    "shops.groupby('stars')['token_count'].mean()"
   ]
  },
  {
   "cell_type": "markdown",
   "metadata": {},
   "source": [
    "## Looks like the better the coffee shop the fewer the words used in the review.\n",
    "\n",
    "### What about after removing the stop words, though?"
   ]
  },
  {
   "cell_type": "code",
   "execution_count": 51,
   "metadata": {},
   "outputs": [],
   "source": [
    "import spacy\n",
    "from spacy.tokenizer import Tokenizer\n",
    "\n",
    "nlp = spacy.load(\"en_core_web_lg\")\n",
    "\n",
    "# Tokenizer\n",
    "tokenizer = Tokenizer(nlp.vocab)"
   ]
  },
  {
   "cell_type": "code",
   "execution_count": 53,
   "metadata": {},
   "outputs": [],
   "source": [
    "tokens = []\n",
    "\n",
    "\"\"\" Update those tokens w/o stopwords\"\"\"\n",
    "for doc in tokenizer.pipe(shops['review_no_date'], batch_size=500):\n",
    "    \n",
    "    doc_tokens = []\n",
    "    \n",
    "    for token in doc:\n",
    "        if (token.is_stop == False) & (token.is_punct == False):\n",
    "            doc_tokens.append(token.text.lower())\n",
    "\n",
    "    tokens.append(doc_tokens)\n",
    "\n",
    "shops['tokens-stop'] = tokens"
   ]
  },
  {
   "cell_type": "code",
   "execution_count": 54,
   "metadata": {},
   "outputs": [
    {
     "data": {
      "text/plain": [
       "0    [  , 1, check-in, love, love, loved, atmospher...\n",
       "1    [  , listed, date, night:, austin,, ambiance, ...\n",
       "2    [  , 1, check-in, listed, brunch, spots, loved...\n",
       "3    [  , cool, decor!, good, drinks, nice, seating...\n",
       "4    [  , 1, check-in, located, northcross, mall, s...\n",
       "Name: tokens-stop, dtype: object"
      ]
     },
     "execution_count": 54,
     "metadata": {},
     "output_type": "execute_result"
    }
   ],
   "source": [
    "shops['tokens-stop'].head()"
   ]
  },
  {
   "cell_type": "code",
   "execution_count": 55,
   "metadata": {},
   "outputs": [],
   "source": [
    "shops['tokens-stop_count'] = shops['tokens-stop'].str.len()"
   ]
  },
  {
   "cell_type": "code",
   "execution_count": 56,
   "metadata": {},
   "outputs": [
    {
     "data": {
      "text/plain": [
       "stars\n",
       "1    62.003597\n",
       "2    63.676087\n",
       "3    61.070461\n",
       "4    58.877542\n",
       "5    48.581746\n",
       "Name: tokens-stop_count, dtype: float64"
      ]
     },
     "execution_count": 56,
     "metadata": {},
     "output_type": "execute_result"
    }
   ],
   "source": [
    "shops.groupby('stars')['tokens-stop_count'].mean()"
   ]
  },
  {
   "cell_type": "markdown",
   "metadata": {},
   "source": [
    "## Still fewer words associated with a higher rating; especially with a 5 star."
   ]
  },
  {
   "cell_type": "markdown",
   "metadata": {},
   "source": [
    "## Can visualize the words with the greatest difference in counts between 'good' & 'bad'?\n",
    "\n",
    "Couple Notes: \n",
    "- Rel. freq. instead of absolute counts b/c of different numbers of reviews\n",
    "- Only look at the top 5-10 words with the greatest differences\n"
   ]
  },
  {
   "cell_type": "code",
   "execution_count": 46,
   "metadata": {},
   "outputs": [],
   "source": [
    "\"\"\" Here's what I am thinking I need to do:\n",
    "    Separate the 'good' ratings from the 'bad' ratings.\n",
    "    Get a set of words for the 'good' ratings and another set for the 'bad' ones.\n",
    "    Make a set of words for the union of both of these sets.\n",
    "    Get the set of words in the 'good' set minus the union set.\n",
    "    Get the set of words in the 'bad' set minus the union set.\n",
    "    Look at the top 5-10 of both of these new sets.\n",
    "\"\"\""
   ]
  },
  {
   "cell_type": "code",
   "execution_count": null,
   "metadata": {},
   "outputs": [],
   "source": []
  },
  {
   "cell_type": "code",
   "execution_count": 57,
   "metadata": {},
   "outputs": [],
   "source": [
    "nlp = spacy.load(\"en_core_web_lg\")\n",
    "\n",
    "def get_lemmas(text):\n",
    "    \"\"\" Lemmas function from Jon-Cody Sokoll \"\"\"\n",
    "    lemmas = []\n",
    "    \n",
    "    doc = nlp(text)\n",
    "    \n",
    "    for token in doc: \n",
    "        if ((token.is_stop == False) and (token.is_punct == False)) and (token.pos_!= 'PRON'):\n",
    "            lemmas.append(token.lemma_)\n",
    "    \n",
    "    return lemmas"
   ]
  },
  {
   "cell_type": "code",
   "execution_count": 58,
   "metadata": {},
   "outputs": [],
   "source": [
    "shops['lemmas'] = shops['review_no_date'].apply(get_lemmas)"
   ]
  },
  {
   "cell_type": "code",
   "execution_count": 59,
   "metadata": {},
   "outputs": [
    {
     "data": {
      "text/plain": [
       "0       [  , 1, check, Love, love, love, atmosphere, c...\n",
       "1       [  , list, Date, Night, Austin, Ambiance, Aust...\n",
       "2       [  , 1, check, list, Brunch, Spots, love, ecle...\n",
       "3       [  , cool, decor, good, drink, nice, seating, ...\n",
       "4       [  , 1, check, locate, Northcross, mall, shopp...\n",
       "                              ...                        \n",
       "7611    [  , actually, step, restaurant, chance, favor...\n",
       "7612    [  , ok, Steeping, Room, awesome, great, menu,...\n",
       "7613    [  , love, come, tea, atmosphere, pretty, fres...\n",
       "7614    [  , food, average, booth, feel, clean, waitst...\n",
       "7615    [  , finally, stop, lunch, colleague, glad, de...\n",
       "Name: lemmas, Length: 7616, dtype: object"
      ]
     },
     "execution_count": 59,
     "metadata": {},
     "output_type": "execute_result"
    }
   ],
   "source": [
    "shops['lemmas']"
   ]
  },
  {
   "cell_type": "code",
   "execution_count": 66,
   "metadata": {},
   "outputs": [
    {
     "data": {
      "text/plain": [
       "6140"
      ]
     },
     "execution_count": 66,
     "metadata": {},
     "output_type": "execute_result"
    }
   ],
   "source": [
    "# Make a set of words from the ratings that are above 3\n",
    "good_df = shops[shops['stars'] > 3][['lemmas']]\n",
    "\n",
    "len(good_df)"
   ]
  },
  {
   "cell_type": "code",
   "execution_count": 67,
   "metadata": {},
   "outputs": [],
   "source": [
    "good_set = set()"
   ]
  },
  {
   "cell_type": "code",
   "execution_count": 74,
   "metadata": {},
   "outputs": [],
   "source": [
    "good_set.update(set(good_df['lemmas'][0]))"
   ]
  },
  {
   "cell_type": "code",
   "execution_count": 76,
   "metadata": {},
   "outputs": [
    {
     "data": {
      "text/plain": [
       "42"
      ]
     },
     "execution_count": 76,
     "metadata": {},
     "output_type": "execute_result"
    }
   ],
   "source": [
    "len(good_set)"
   ]
  },
  {
   "cell_type": "code",
   "execution_count": 77,
   "metadata": {},
   "outputs": [],
   "source": [
    "good_set.update(set(good_df['lemmas'][1]))"
   ]
  },
  {
   "cell_type": "code",
   "execution_count": 78,
   "metadata": {},
   "outputs": [
    {
     "data": {
      "text/plain": [
       "64"
      ]
     },
     "execution_count": 78,
     "metadata": {},
     "output_type": "execute_result"
    }
   ],
   "source": [
    "len(good_set)"
   ]
  },
  {
   "cell_type": "code",
   "execution_count": 94,
   "metadata": {},
   "outputs": [
    {
     "data": {
      "text/plain": [
       "{' ',\n",
       " '  ',\n",
       " '1',\n",
       " 'Cortado',\n",
       " 'Factory',\n",
       " 'Latte',\n",
       " 'Matcha',\n",
       " 'Viva',\n",
       " 'atmosphere',\n",
       " 'cafe',\n",
       " 'catching',\n",
       " 'cheap',\n",
       " 'check',\n",
       " 'coffee',\n",
       " 'cold',\n",
       " 'combination',\n",
       " 'counter',\n",
       " 'cozy',\n",
       " 'cup',\n",
       " 'cute',\n",
       " 'date',\n",
       " 'decor',\n",
       " 'expect',\n",
       " 'find',\n",
       " 'friend',\n",
       " 'fun',\n",
       " 'get',\n",
       " 'go',\n",
       " 'good',\n",
       " 'great',\n",
       " 'honestly',\n",
       " 'iPad',\n",
       " 'interaction',\n",
       " 'latte',\n",
       " 'like',\n",
       " 'matcha',\n",
       " 'maybe',\n",
       " 'moment',\n",
       " 'nice',\n",
       " 'night',\n",
       " 'novel',\n",
       " 'order',\n",
       " 'overall',\n",
       " 'perfect',\n",
       " 'pick',\n",
       " 'place',\n",
       " 'pretty',\n",
       " 'price',\n",
       " 'pricey',\n",
       " 'right',\n",
       " 'sit',\n",
       " 'step',\n",
       " 'study',\n",
       " 'super',\n",
       " 'sweetness',\n",
       " 'swing',\n",
       " 'temperature',\n",
       " 'thing',\n",
       " 'think',\n",
       " 'want',\n",
       " 'wifi',\n",
       " 'worker'}"
      ]
     },
     "execution_count": 94,
     "metadata": {},
     "output_type": "execute_result"
    }
   ],
   "source": [
    "set(good_df.iloc[4,0])"
   ]
  },
  {
   "cell_type": "code",
   "execution_count": 95,
   "metadata": {},
   "outputs": [],
   "source": [
    "for i in range(len(good_df)):\n",
    "    good_set.update(set(good_df.iloc[i,0]))"
   ]
  },
  {
   "cell_type": "code",
   "execution_count": 96,
   "metadata": {},
   "outputs": [
    {
     "data": {
      "text/plain": [
       "14759"
      ]
     },
     "execution_count": 96,
     "metadata": {},
     "output_type": "execute_result"
    }
   ],
   "source": [
    "len(good_set)"
   ]
  },
  {
   "cell_type": "markdown",
   "metadata": {},
   "source": [
    "That's a big set of words used in all the good reviews."
   ]
  },
  {
   "cell_type": "code",
   "execution_count": 97,
   "metadata": {},
   "outputs": [],
   "source": [
    "# Make the bad set\n",
    "bad_set = set()"
   ]
  },
  {
   "cell_type": "code",
   "execution_count": 98,
   "metadata": {},
   "outputs": [
    {
     "data": {
      "text/plain": [
       "1476"
      ]
     },
     "execution_count": 98,
     "metadata": {},
     "output_type": "execute_result"
    }
   ],
   "source": [
    "bad_df = shops[shops['stars'] < 4][['lemmas']]\n",
    "\n",
    "len(bad_df)"
   ]
  },
  {
   "cell_type": "code",
   "execution_count": 99,
   "metadata": {},
   "outputs": [],
   "source": [
    "for i in range(len(bad_df)):\n",
    "    bad_set.update(set(bad_df.iloc[i,0]))"
   ]
  },
  {
   "cell_type": "code",
   "execution_count": 100,
   "metadata": {},
   "outputs": [
    {
     "data": {
      "text/plain": [
       "7569"
      ]
     },
     "execution_count": 100,
     "metadata": {},
     "output_type": "execute_result"
    }
   ],
   "source": [
    "len(bad_set)"
   ]
  },
  {
   "cell_type": "code",
   "execution_count": 103,
   "metadata": {},
   "outputs": [],
   "source": [
    "intersect_set = good_set.intersection(bad_set)"
   ]
  },
  {
   "cell_type": "code",
   "execution_count": 104,
   "metadata": {},
   "outputs": [
    {
     "data": {
      "text/plain": [
       "5493"
      ]
     },
     "execution_count": 104,
     "metadata": {},
     "output_type": "execute_result"
    }
   ],
   "source": [
    "len(intersect_set)"
   ]
  },
  {
   "cell_type": "code",
   "execution_count": 105,
   "metadata": {},
   "outputs": [],
   "source": [
    "only_good = good_set - intersect_set\n",
    "only_bad = bad_set - intersect_set"
   ]
  },
  {
   "cell_type": "code",
   "execution_count": 107,
   "metadata": {},
   "outputs": [],
   "source": [
    "def count(docs):\n",
    "\n",
    "        word_counts = Counter()\n",
    "        appears_in = Counter()\n",
    "        \n",
    "        total_docs = len(docs)\n",
    "\n",
    "        for doc in docs:\n",
    "            word_counts.update(doc)\n",
    "            appears_in.update(set(doc))\n",
    "\n",
    "        temp = zip(word_counts.keys(), word_counts.values())\n",
    "        \n",
    "        wc = pd.DataFrame(temp, columns = ['word', 'count'])\n",
    "\n",
    "        wc['rank'] = wc['count'].rank(method='first', ascending=False)\n",
    "        total = wc['count'].sum()\n",
    "\n",
    "        wc['pct_total'] = wc['count'].apply(lambda x: x / total)\n",
    "        \n",
    "        wc = wc.sort_values(by='rank')\n",
    "        wc['cul_pct_total'] = wc['pct_total'].cumsum()\n",
    "\n",
    "        t2 = zip(appears_in.keys(), appears_in.values())\n",
    "        ac = pd.DataFrame(t2, columns=['word', 'appears_in'])\n",
    "        wc = ac.merge(wc, on='word')\n",
    "\n",
    "        wc['appears_in_pct'] = wc['appears_in'].apply(lambda x: x / total_docs)\n",
    "        \n",
    "        return wc.sort_values(by='rank')"
   ]
  },
  {
   "cell_type": "code",
   "execution_count": 115,
   "metadata": {},
   "outputs": [],
   "source": [
    "good_wc = count(good_df['lemmas'])\n",
    "bad_wc = count(bad_df['lemmas'])"
   ]
  },
  {
   "cell_type": "code",
   "execution_count": 112,
   "metadata": {},
   "outputs": [
    {
     "data": {
      "text/html": [
       "<div>\n",
       "<style scoped>\n",
       "    .dataframe tbody tr th:only-of-type {\n",
       "        vertical-align: middle;\n",
       "    }\n",
       "\n",
       "    .dataframe tbody tr th {\n",
       "        vertical-align: top;\n",
       "    }\n",
       "\n",
       "    .dataframe thead th {\n",
       "        text-align: right;\n",
       "    }\n",
       "</style>\n",
       "<table border=\"1\" class=\"dataframe\">\n",
       "  <thead>\n",
       "    <tr style=\"text-align: right;\">\n",
       "      <th></th>\n",
       "      <th>word</th>\n",
       "      <th>appears_in</th>\n",
       "      <th>count</th>\n",
       "      <th>rank</th>\n",
       "      <th>pct_total</th>\n",
       "      <th>cul_pct_total</th>\n",
       "      <th>appears_in_pct</th>\n",
       "    </tr>\n",
       "  </thead>\n",
       "  <tbody>\n",
       "    <tr>\n",
       "      <th>6</th>\n",
       "      <td></td>\n",
       "      <td>3411</td>\n",
       "      <td>11661</td>\n",
       "      <td>1.0</td>\n",
       "      <td>0.038747</td>\n",
       "      <td>0.038747</td>\n",
       "      <td>0.555537</td>\n",
       "    </tr>\n",
       "    <tr>\n",
       "      <th>25</th>\n",
       "      <td>coffee</td>\n",
       "      <td>3910</td>\n",
       "      <td>8017</td>\n",
       "      <td>2.0</td>\n",
       "      <td>0.026639</td>\n",
       "      <td>0.065386</td>\n",
       "      <td>0.636808</td>\n",
       "    </tr>\n",
       "    <tr>\n",
       "      <th>39</th>\n",
       "      <td></td>\n",
       "      <td>6140</td>\n",
       "      <td>6356</td>\n",
       "      <td>3.0</td>\n",
       "      <td>0.021120</td>\n",
       "      <td>0.086506</td>\n",
       "      <td>1.000000</td>\n",
       "    </tr>\n",
       "    <tr>\n",
       "      <th>83</th>\n",
       "      <td>place</td>\n",
       "      <td>3120</td>\n",
       "      <td>4802</td>\n",
       "      <td>4.0</td>\n",
       "      <td>0.015956</td>\n",
       "      <td>0.102463</td>\n",
       "      <td>0.508143</td>\n",
       "    </tr>\n",
       "    <tr>\n",
       "      <th>198</th>\n",
       "      <td>good</td>\n",
       "      <td>2931</td>\n",
       "      <td>4348</td>\n",
       "      <td>5.0</td>\n",
       "      <td>0.014448</td>\n",
       "      <td>0.116910</td>\n",
       "      <td>0.477362</td>\n",
       "    </tr>\n",
       "    <tr>\n",
       "      <th>...</th>\n",
       "      <td>...</td>\n",
       "      <td>...</td>\n",
       "      <td>...</td>\n",
       "      <td>...</td>\n",
       "      <td>...</td>\n",
       "      <td>...</td>\n",
       "      <td>...</td>\n",
       "    </tr>\n",
       "    <tr>\n",
       "      <th>14752</th>\n",
       "      <td>windowed</td>\n",
       "      <td>1</td>\n",
       "      <td>1</td>\n",
       "      <td>14755.0</td>\n",
       "      <td>0.000003</td>\n",
       "      <td>0.999987</td>\n",
       "      <td>0.000163</td>\n",
       "    </tr>\n",
       "    <tr>\n",
       "      <th>14755</th>\n",
       "      <td>actuality</td>\n",
       "      <td>1</td>\n",
       "      <td>1</td>\n",
       "      <td>14756.0</td>\n",
       "      <td>0.000003</td>\n",
       "      <td>0.999990</td>\n",
       "      <td>0.000163</td>\n",
       "    </tr>\n",
       "    <tr>\n",
       "      <th>14754</th>\n",
       "      <td>crass</td>\n",
       "      <td>1</td>\n",
       "      <td>1</td>\n",
       "      <td>14757.0</td>\n",
       "      <td>0.000003</td>\n",
       "      <td>0.999993</td>\n",
       "      <td>0.000163</td>\n",
       "    </tr>\n",
       "    <tr>\n",
       "      <th>14757</th>\n",
       "      <td>digestion</td>\n",
       "      <td>1</td>\n",
       "      <td>1</td>\n",
       "      <td>14758.0</td>\n",
       "      <td>0.000003</td>\n",
       "      <td>0.999997</td>\n",
       "      <td>0.000163</td>\n",
       "    </tr>\n",
       "    <tr>\n",
       "      <th>14756</th>\n",
       "      <td>Moroccan</td>\n",
       "      <td>1</td>\n",
       "      <td>1</td>\n",
       "      <td>14759.0</td>\n",
       "      <td>0.000003</td>\n",
       "      <td>1.000000</td>\n",
       "      <td>0.000163</td>\n",
       "    </tr>\n",
       "  </tbody>\n",
       "</table>\n",
       "<p>14759 rows × 7 columns</p>\n",
       "</div>"
      ],
      "text/plain": [
       "            word  appears_in  count     rank  pct_total  cul_pct_total  \\\n",
       "6                       3411  11661      1.0   0.038747       0.038747   \n",
       "25        coffee        3910   8017      2.0   0.026639       0.065386   \n",
       "39                      6140   6356      3.0   0.021120       0.086506   \n",
       "83         place        3120   4802      4.0   0.015956       0.102463   \n",
       "198         good        2931   4348      5.0   0.014448       0.116910   \n",
       "...          ...         ...    ...      ...        ...            ...   \n",
       "14752   windowed           1      1  14755.0   0.000003       0.999987   \n",
       "14755  actuality           1      1  14756.0   0.000003       0.999990   \n",
       "14754      crass           1      1  14757.0   0.000003       0.999993   \n",
       "14757  digestion           1      1  14758.0   0.000003       0.999997   \n",
       "14756   Moroccan           1      1  14759.0   0.000003       1.000000   \n",
       "\n",
       "       appears_in_pct  \n",
       "6            0.555537  \n",
       "25           0.636808  \n",
       "39           1.000000  \n",
       "83           0.508143  \n",
       "198          0.477362  \n",
       "...               ...  \n",
       "14752        0.000163  \n",
       "14755        0.000163  \n",
       "14754        0.000163  \n",
       "14757        0.000163  \n",
       "14756        0.000163  \n",
       "\n",
       "[14759 rows x 7 columns]"
      ]
     },
     "execution_count": 112,
     "metadata": {},
     "output_type": "execute_result"
    }
   ],
   "source": [
    "good_wc"
   ]
  },
  {
   "cell_type": "code",
   "execution_count": 113,
   "metadata": {},
   "outputs": [
    {
     "data": {
      "text/html": [
       "<div>\n",
       "<style scoped>\n",
       "    .dataframe tbody tr th:only-of-type {\n",
       "        vertical-align: middle;\n",
       "    }\n",
       "\n",
       "    .dataframe tbody tr th {\n",
       "        vertical-align: top;\n",
       "    }\n",
       "\n",
       "    .dataframe thead th {\n",
       "        text-align: right;\n",
       "    }\n",
       "</style>\n",
       "<table border=\"1\" class=\"dataframe\">\n",
       "  <thead>\n",
       "    <tr style=\"text-align: right;\">\n",
       "      <th></th>\n",
       "      <th>word</th>\n",
       "      <th>appears_in</th>\n",
       "      <th>count</th>\n",
       "      <th>rank</th>\n",
       "      <th>pct_total</th>\n",
       "      <th>cul_pct_total</th>\n",
       "      <th>appears_in_pct</th>\n",
       "    </tr>\n",
       "  </thead>\n",
       "  <tbody>\n",
       "    <tr>\n",
       "      <th>12</th>\n",
       "      <td></td>\n",
       "      <td>935</td>\n",
       "      <td>3367</td>\n",
       "      <td>1.0</td>\n",
       "      <td>0.039992</td>\n",
       "      <td>0.039992</td>\n",
       "      <td>0.633469</td>\n",
       "    </tr>\n",
       "    <tr>\n",
       "      <th>24</th>\n",
       "      <td>coffee</td>\n",
       "      <td>929</td>\n",
       "      <td>2103</td>\n",
       "      <td>2.0</td>\n",
       "      <td>0.024979</td>\n",
       "      <td>0.064971</td>\n",
       "      <td>0.629404</td>\n",
       "    </tr>\n",
       "    <tr>\n",
       "      <th>36</th>\n",
       "      <td></td>\n",
       "      <td>1476</td>\n",
       "      <td>1555</td>\n",
       "      <td>3.0</td>\n",
       "      <td>0.018470</td>\n",
       "      <td>0.083441</td>\n",
       "      <td>1.000000</td>\n",
       "    </tr>\n",
       "    <tr>\n",
       "      <th>35</th>\n",
       "      <td>place</td>\n",
       "      <td>752</td>\n",
       "      <td>1225</td>\n",
       "      <td>4.0</td>\n",
       "      <td>0.014550</td>\n",
       "      <td>0.097991</td>\n",
       "      <td>0.509485</td>\n",
       "    </tr>\n",
       "    <tr>\n",
       "      <th>18</th>\n",
       "      <td>good</td>\n",
       "      <td>647</td>\n",
       "      <td>1000</td>\n",
       "      <td>5.0</td>\n",
       "      <td>0.011878</td>\n",
       "      <td>0.109869</td>\n",
       "      <td>0.438347</td>\n",
       "    </tr>\n",
       "    <tr>\n",
       "      <th>...</th>\n",
       "      <td>...</td>\n",
       "      <td>...</td>\n",
       "      <td>...</td>\n",
       "      <td>...</td>\n",
       "      <td>...</td>\n",
       "      <td>...</td>\n",
       "      <td>...</td>\n",
       "    </tr>\n",
       "    <tr>\n",
       "      <th>7562</th>\n",
       "      <td>atop</td>\n",
       "      <td>1</td>\n",
       "      <td>1</td>\n",
       "      <td>7565.0</td>\n",
       "      <td>0.000012</td>\n",
       "      <td>0.999952</td>\n",
       "      <td>0.000678</td>\n",
       "    </tr>\n",
       "    <tr>\n",
       "      <th>7559</th>\n",
       "      <td>dull</td>\n",
       "      <td>1</td>\n",
       "      <td>1</td>\n",
       "      <td>7566.0</td>\n",
       "      <td>0.000012</td>\n",
       "      <td>0.999964</td>\n",
       "      <td>0.000678</td>\n",
       "    </tr>\n",
       "    <tr>\n",
       "      <th>7560</th>\n",
       "      <td>tasted</td>\n",
       "      <td>1</td>\n",
       "      <td>1</td>\n",
       "      <td>7567.0</td>\n",
       "      <td>0.000012</td>\n",
       "      <td>0.999976</td>\n",
       "      <td>0.000678</td>\n",
       "    </tr>\n",
       "    <tr>\n",
       "      <th>7561</th>\n",
       "      <td>imo</td>\n",
       "      <td>1</td>\n",
       "      <td>1</td>\n",
       "      <td>7568.0</td>\n",
       "      <td>0.000012</td>\n",
       "      <td>0.999988</td>\n",
       "      <td>0.000678</td>\n",
       "    </tr>\n",
       "    <tr>\n",
       "      <th>7568</th>\n",
       "      <td>efficient</td>\n",
       "      <td>1</td>\n",
       "      <td>1</td>\n",
       "      <td>7569.0</td>\n",
       "      <td>0.000012</td>\n",
       "      <td>1.000000</td>\n",
       "      <td>0.000678</td>\n",
       "    </tr>\n",
       "  </tbody>\n",
       "</table>\n",
       "<p>7569 rows × 7 columns</p>\n",
       "</div>"
      ],
      "text/plain": [
       "           word  appears_in  count    rank  pct_total  cul_pct_total  \\\n",
       "12                      935   3367     1.0   0.039992       0.039992   \n",
       "24       coffee         929   2103     2.0   0.024979       0.064971   \n",
       "36                     1476   1555     3.0   0.018470       0.083441   \n",
       "35        place         752   1225     4.0   0.014550       0.097991   \n",
       "18         good         647   1000     5.0   0.011878       0.109869   \n",
       "...         ...         ...    ...     ...        ...            ...   \n",
       "7562       atop           1      1  7565.0   0.000012       0.999952   \n",
       "7559       dull           1      1  7566.0   0.000012       0.999964   \n",
       "7560     tasted           1      1  7567.0   0.000012       0.999976   \n",
       "7561        imo           1      1  7568.0   0.000012       0.999988   \n",
       "7568  efficient           1      1  7569.0   0.000012       1.000000   \n",
       "\n",
       "      appears_in_pct  \n",
       "12          0.633469  \n",
       "24          0.629404  \n",
       "36          1.000000  \n",
       "35          0.509485  \n",
       "18          0.438347  \n",
       "...              ...  \n",
       "7562        0.000678  \n",
       "7559        0.000678  \n",
       "7560        0.000678  \n",
       "7561        0.000678  \n",
       "7568        0.000678  \n",
       "\n",
       "[7569 rows x 7 columns]"
      ]
     },
     "execution_count": 113,
     "metadata": {},
     "output_type": "execute_result"
    }
   ],
   "source": [
    "bad_wc"
   ]
  },
  {
   "cell_type": "code",
   "execution_count": 116,
   "metadata": {},
   "outputs": [],
   "source": [
    "good_wc_sifted = good_wc[good_wc['word'].isin(only_good)]"
   ]
  },
  {
   "cell_type": "code",
   "execution_count": 117,
   "metadata": {},
   "outputs": [
    {
     "data": {
      "text/html": [
       "<div>\n",
       "<style scoped>\n",
       "    .dataframe tbody tr th:only-of-type {\n",
       "        vertical-align: middle;\n",
       "    }\n",
       "\n",
       "    .dataframe tbody tr th {\n",
       "        vertical-align: top;\n",
       "    }\n",
       "\n",
       "    .dataframe thead th {\n",
       "        text-align: right;\n",
       "    }\n",
       "</style>\n",
       "<table border=\"1\" class=\"dataframe\">\n",
       "  <thead>\n",
       "    <tr style=\"text-align: right;\">\n",
       "      <th></th>\n",
       "      <th>word</th>\n",
       "      <th>appears_in</th>\n",
       "      <th>count</th>\n",
       "      <th>rank</th>\n",
       "      <th>pct_total</th>\n",
       "      <th>cul_pct_total</th>\n",
       "      <th>appears_in_pct</th>\n",
       "    </tr>\n",
       "  </thead>\n",
       "  <tbody>\n",
       "    <tr>\n",
       "      <th>4584</th>\n",
       "      <td>Venezia</td>\n",
       "      <td>44</td>\n",
       "      <td>52</td>\n",
       "      <td>859.0</td>\n",
       "      <td>0.000173</td>\n",
       "      <td>0.775603</td>\n",
       "      <td>0.007166</td>\n",
       "    </tr>\n",
       "    <tr>\n",
       "      <th>1914</th>\n",
       "      <td>passion</td>\n",
       "      <td>42</td>\n",
       "      <td>48</td>\n",
       "      <td>910.0</td>\n",
       "      <td>0.000159</td>\n",
       "      <td>0.784033</td>\n",
       "      <td>0.006840</td>\n",
       "    </tr>\n",
       "    <tr>\n",
       "      <th>1726</th>\n",
       "      <td>knowledgable</td>\n",
       "      <td>45</td>\n",
       "      <td>46</td>\n",
       "      <td>937.0</td>\n",
       "      <td>0.000153</td>\n",
       "      <td>0.788227</td>\n",
       "      <td>0.007329</td>\n",
       "    </tr>\n",
       "    <tr>\n",
       "      <th>1742</th>\n",
       "      <td>Fleet</td>\n",
       "      <td>26</td>\n",
       "      <td>42</td>\n",
       "      <td>983.0</td>\n",
       "      <td>0.000140</td>\n",
       "      <td>0.794959</td>\n",
       "      <td>0.004235</td>\n",
       "    </tr>\n",
       "    <tr>\n",
       "      <th>2678</th>\n",
       "      <td>ROTD</td>\n",
       "      <td>36</td>\n",
       "      <td>36</td>\n",
       "      <td>1119.0</td>\n",
       "      <td>0.000120</td>\n",
       "      <td>0.812533</td>\n",
       "      <td>0.005863</td>\n",
       "    </tr>\n",
       "    <tr>\n",
       "      <th>...</th>\n",
       "      <td>...</td>\n",
       "      <td>...</td>\n",
       "      <td>...</td>\n",
       "      <td>...</td>\n",
       "      <td>...</td>\n",
       "      <td>...</td>\n",
       "      <td>...</td>\n",
       "    </tr>\n",
       "    <tr>\n",
       "      <th>14752</th>\n",
       "      <td>windowed</td>\n",
       "      <td>1</td>\n",
       "      <td>1</td>\n",
       "      <td>14755.0</td>\n",
       "      <td>0.000003</td>\n",
       "      <td>0.999987</td>\n",
       "      <td>0.000163</td>\n",
       "    </tr>\n",
       "    <tr>\n",
       "      <th>14755</th>\n",
       "      <td>actuality</td>\n",
       "      <td>1</td>\n",
       "      <td>1</td>\n",
       "      <td>14756.0</td>\n",
       "      <td>0.000003</td>\n",
       "      <td>0.999990</td>\n",
       "      <td>0.000163</td>\n",
       "    </tr>\n",
       "    <tr>\n",
       "      <th>14754</th>\n",
       "      <td>crass</td>\n",
       "      <td>1</td>\n",
       "      <td>1</td>\n",
       "      <td>14757.0</td>\n",
       "      <td>0.000003</td>\n",
       "      <td>0.999993</td>\n",
       "      <td>0.000163</td>\n",
       "    </tr>\n",
       "    <tr>\n",
       "      <th>14757</th>\n",
       "      <td>digestion</td>\n",
       "      <td>1</td>\n",
       "      <td>1</td>\n",
       "      <td>14758.0</td>\n",
       "      <td>0.000003</td>\n",
       "      <td>0.999997</td>\n",
       "      <td>0.000163</td>\n",
       "    </tr>\n",
       "    <tr>\n",
       "      <th>14756</th>\n",
       "      <td>Moroccan</td>\n",
       "      <td>1</td>\n",
       "      <td>1</td>\n",
       "      <td>14759.0</td>\n",
       "      <td>0.000003</td>\n",
       "      <td>1.000000</td>\n",
       "      <td>0.000163</td>\n",
       "    </tr>\n",
       "  </tbody>\n",
       "</table>\n",
       "<p>9266 rows × 7 columns</p>\n",
       "</div>"
      ],
      "text/plain": [
       "               word  appears_in  count     rank  pct_total  cul_pct_total  \\\n",
       "4584        Venezia          44     52    859.0   0.000173       0.775603   \n",
       "1914        passion          42     48    910.0   0.000159       0.784033   \n",
       "1726   knowledgable          45     46    937.0   0.000153       0.788227   \n",
       "1742          Fleet          26     42    983.0   0.000140       0.794959   \n",
       "2678           ROTD          36     36   1119.0   0.000120       0.812533   \n",
       "...             ...         ...    ...      ...        ...            ...   \n",
       "14752      windowed           1      1  14755.0   0.000003       0.999987   \n",
       "14755     actuality           1      1  14756.0   0.000003       0.999990   \n",
       "14754         crass           1      1  14757.0   0.000003       0.999993   \n",
       "14757     digestion           1      1  14758.0   0.000003       0.999997   \n",
       "14756      Moroccan           1      1  14759.0   0.000003       1.000000   \n",
       "\n",
       "       appears_in_pct  \n",
       "4584         0.007166  \n",
       "1914         0.006840  \n",
       "1726         0.007329  \n",
       "1742         0.004235  \n",
       "2678         0.005863  \n",
       "...               ...  \n",
       "14752        0.000163  \n",
       "14755        0.000163  \n",
       "14754        0.000163  \n",
       "14757        0.000163  \n",
       "14756        0.000163  \n",
       "\n",
       "[9266 rows x 7 columns]"
      ]
     },
     "execution_count": 117,
     "metadata": {},
     "output_type": "execute_result"
    }
   ],
   "source": [
    "good_wc_sifted"
   ]
  },
  {
   "cell_type": "code",
   "execution_count": 131,
   "metadata": {},
   "outputs": [],
   "source": [
    "for i in range(len(good_wc_sifted)):\n",
    "    good_wc_sifted.iat[i,3] = (i+1)"
   ]
  },
  {
   "cell_type": "code",
   "execution_count": 138,
   "metadata": {},
   "outputs": [
    {
     "data": {
      "text/html": [
       "<div>\n",
       "<style scoped>\n",
       "    .dataframe tbody tr th:only-of-type {\n",
       "        vertical-align: middle;\n",
       "    }\n",
       "\n",
       "    .dataframe tbody tr th {\n",
       "        vertical-align: top;\n",
       "    }\n",
       "\n",
       "    .dataframe thead th {\n",
       "        text-align: right;\n",
       "    }\n",
       "</style>\n",
       "<table border=\"1\" class=\"dataframe\">\n",
       "  <thead>\n",
       "    <tr style=\"text-align: right;\">\n",
       "      <th></th>\n",
       "      <th>word</th>\n",
       "      <th>appears_in</th>\n",
       "      <th>count</th>\n",
       "      <th>rank</th>\n",
       "      <th>pct_total</th>\n",
       "      <th>cul_pct_total</th>\n",
       "      <th>appears_in_pct</th>\n",
       "      <th>3</th>\n",
       "    </tr>\n",
       "  </thead>\n",
       "  <tbody>\n",
       "    <tr>\n",
       "      <th>4584</th>\n",
       "      <td>Venezia</td>\n",
       "      <td>44.0</td>\n",
       "      <td>52.0</td>\n",
       "      <td>1.0</td>\n",
       "      <td>0.000173</td>\n",
       "      <td>0.775603</td>\n",
       "      <td>0.007166</td>\n",
       "      <td>NaN</td>\n",
       "    </tr>\n",
       "    <tr>\n",
       "      <th>1914</th>\n",
       "      <td>passion</td>\n",
       "      <td>42.0</td>\n",
       "      <td>48.0</td>\n",
       "      <td>2.0</td>\n",
       "      <td>0.000159</td>\n",
       "      <td>0.784033</td>\n",
       "      <td>0.006840</td>\n",
       "      <td>NaN</td>\n",
       "    </tr>\n",
       "    <tr>\n",
       "      <th>1726</th>\n",
       "      <td>knowledgable</td>\n",
       "      <td>45.0</td>\n",
       "      <td>46.0</td>\n",
       "      <td>3.0</td>\n",
       "      <td>0.000153</td>\n",
       "      <td>0.788227</td>\n",
       "      <td>0.007329</td>\n",
       "      <td>NaN</td>\n",
       "    </tr>\n",
       "    <tr>\n",
       "      <th>1742</th>\n",
       "      <td>Fleet</td>\n",
       "      <td>26.0</td>\n",
       "      <td>42.0</td>\n",
       "      <td>4.0</td>\n",
       "      <td>0.000140</td>\n",
       "      <td>0.794959</td>\n",
       "      <td>0.004235</td>\n",
       "      <td>NaN</td>\n",
       "    </tr>\n",
       "    <tr>\n",
       "      <th>2678</th>\n",
       "      <td>ROTD</td>\n",
       "      <td>36.0</td>\n",
       "      <td>36.0</td>\n",
       "      <td>5.0</td>\n",
       "      <td>0.000120</td>\n",
       "      <td>0.812533</td>\n",
       "      <td>0.005863</td>\n",
       "      <td>NaN</td>\n",
       "    </tr>\n",
       "    <tr>\n",
       "      <th>...</th>\n",
       "      <td>...</td>\n",
       "      <td>...</td>\n",
       "      <td>...</td>\n",
       "      <td>...</td>\n",
       "      <td>...</td>\n",
       "      <td>...</td>\n",
       "      <td>...</td>\n",
       "      <td>...</td>\n",
       "    </tr>\n",
       "    <tr>\n",
       "      <th>14755</th>\n",
       "      <td>actuality</td>\n",
       "      <td>1.0</td>\n",
       "      <td>1.0</td>\n",
       "      <td>9263.0</td>\n",
       "      <td>0.000003</td>\n",
       "      <td>0.999990</td>\n",
       "      <td>0.000163</td>\n",
       "      <td>NaN</td>\n",
       "    </tr>\n",
       "    <tr>\n",
       "      <th>14754</th>\n",
       "      <td>crass</td>\n",
       "      <td>1.0</td>\n",
       "      <td>1.0</td>\n",
       "      <td>9264.0</td>\n",
       "      <td>0.000003</td>\n",
       "      <td>0.999993</td>\n",
       "      <td>0.000163</td>\n",
       "      <td>NaN</td>\n",
       "    </tr>\n",
       "    <tr>\n",
       "      <th>14757</th>\n",
       "      <td>digestion</td>\n",
       "      <td>1.0</td>\n",
       "      <td>1.0</td>\n",
       "      <td>9265.0</td>\n",
       "      <td>0.000003</td>\n",
       "      <td>0.999997</td>\n",
       "      <td>0.000163</td>\n",
       "      <td>NaN</td>\n",
       "    </tr>\n",
       "    <tr>\n",
       "      <th>14756</th>\n",
       "      <td>Moroccan</td>\n",
       "      <td>1.0</td>\n",
       "      <td>1.0</td>\n",
       "      <td>9266.0</td>\n",
       "      <td>0.000003</td>\n",
       "      <td>1.000000</td>\n",
       "      <td>0.000163</td>\n",
       "      <td>NaN</td>\n",
       "    </tr>\n",
       "    <tr>\n",
       "      <th>0</th>\n",
       "      <td>NaN</td>\n",
       "      <td>NaN</td>\n",
       "      <td>NaN</td>\n",
       "      <td>9267.0</td>\n",
       "      <td>NaN</td>\n",
       "      <td>NaN</td>\n",
       "      <td>NaN</td>\n",
       "      <td>1.0</td>\n",
       "    </tr>\n",
       "  </tbody>\n",
       "</table>\n",
       "<p>9267 rows × 8 columns</p>\n",
       "</div>"
      ],
      "text/plain": [
       "               word  appears_in  count    rank  pct_total  cul_pct_total  \\\n",
       "4584        Venezia        44.0   52.0     1.0   0.000173       0.775603   \n",
       "1914        passion        42.0   48.0     2.0   0.000159       0.784033   \n",
       "1726   knowledgable        45.0   46.0     3.0   0.000153       0.788227   \n",
       "1742          Fleet        26.0   42.0     4.0   0.000140       0.794959   \n",
       "2678           ROTD        36.0   36.0     5.0   0.000120       0.812533   \n",
       "...             ...         ...    ...     ...        ...            ...   \n",
       "14755     actuality         1.0    1.0  9263.0   0.000003       0.999990   \n",
       "14754         crass         1.0    1.0  9264.0   0.000003       0.999993   \n",
       "14757     digestion         1.0    1.0  9265.0   0.000003       0.999997   \n",
       "14756      Moroccan         1.0    1.0  9266.0   0.000003       1.000000   \n",
       "0               NaN         NaN    NaN  9267.0        NaN            NaN   \n",
       "\n",
       "       appears_in_pct    3  \n",
       "4584         0.007166  NaN  \n",
       "1914         0.006840  NaN  \n",
       "1726         0.007329  NaN  \n",
       "1742         0.004235  NaN  \n",
       "2678         0.005863  NaN  \n",
       "...               ...  ...  \n",
       "14755        0.000163  NaN  \n",
       "14754        0.000163  NaN  \n",
       "14757        0.000163  NaN  \n",
       "14756        0.000163  NaN  \n",
       "0                 NaN  1.0  \n",
       "\n",
       "[9267 rows x 8 columns]"
      ]
     },
     "execution_count": 138,
     "metadata": {},
     "output_type": "execute_result"
    }
   ],
   "source": [
    "good_wc_sifted"
   ]
  },
  {
   "cell_type": "code",
   "execution_count": 139,
   "metadata": {},
   "outputs": [
    {
     "data": {
      "image/png": "[encoded data removed]",
      "text/plain": [
       "<Figure size 432x288 with 1 Axes>"
      ]
     },
     "metadata": {
      "needs_background": "light"
     },
     "output_type": "display_data"
    }
   ],
   "source": [
    "good_wc_top10 = good_wc_sifted[good_wc_sifted['rank'] <= 10]\n",
    "\n",
    "squarify.plot(sizes=good_wc_top10['pct_total'], label=good_wc_top10['word'], alpha=.8 )\n",
    "plt.axis('off')\n",
    "plt.show()"
   ]
  },
  {
   "cell_type": "code",
   "execution_count": 118,
   "metadata": {},
   "outputs": [],
   "source": [
    "bad_wc_sifted = bad_wc[bad_wc['word'].isin(only_bad)]"
   ]
  },
  {
   "cell_type": "code",
   "execution_count": 119,
   "metadata": {},
   "outputs": [
    {
     "data": {
      "text/html": [
       "<div>\n",
       "<style scoped>\n",
       "    .dataframe tbody tr th:only-of-type {\n",
       "        vertical-align: middle;\n",
       "    }\n",
       "\n",
       "    .dataframe tbody tr th {\n",
       "        vertical-align: top;\n",
       "    }\n",
       "\n",
       "    .dataframe thead th {\n",
       "        text-align: right;\n",
       "    }\n",
       "</style>\n",
       "<table border=\"1\" class=\"dataframe\">\n",
       "  <thead>\n",
       "    <tr style=\"text-align: right;\">\n",
       "      <th></th>\n",
       "      <th>word</th>\n",
       "      <th>appears_in</th>\n",
       "      <th>count</th>\n",
       "      <th>rank</th>\n",
       "      <th>pct_total</th>\n",
       "      <th>cul_pct_total</th>\n",
       "      <th>appears_in_pct</th>\n",
       "    </tr>\n",
       "  </thead>\n",
       "  <tbody>\n",
       "    <tr>\n",
       "      <th>620</th>\n",
       "      <td>Meh</td>\n",
       "      <td>13</td>\n",
       "      <td>13</td>\n",
       "      <td>920.0</td>\n",
       "      <td>0.000154</td>\n",
       "      <td>0.793006</td>\n",
       "      <td>0.008808</td>\n",
       "    </tr>\n",
       "    <tr>\n",
       "      <th>2072</th>\n",
       "      <td>Tall</td>\n",
       "      <td>3</td>\n",
       "      <td>12</td>\n",
       "      <td>996.0</td>\n",
       "      <td>0.000143</td>\n",
       "      <td>0.804350</td>\n",
       "      <td>0.002033</td>\n",
       "    </tr>\n",
       "    <tr>\n",
       "      <th>1027</th>\n",
       "      <td>subpar</td>\n",
       "      <td>10</td>\n",
       "      <td>10</td>\n",
       "      <td>1117.0</td>\n",
       "      <td>0.000119</td>\n",
       "      <td>0.820147</td>\n",
       "      <td>0.006775</td>\n",
       "    </tr>\n",
       "    <tr>\n",
       "      <th>70</th>\n",
       "      <td>Pop+art</td>\n",
       "      <td>4</td>\n",
       "      <td>8</td>\n",
       "      <td>1274.0</td>\n",
       "      <td>0.000095</td>\n",
       "      <td>0.837607</td>\n",
       "      <td>0.002710</td>\n",
       "    </tr>\n",
       "    <tr>\n",
       "      <th>418</th>\n",
       "      <td>redo</td>\n",
       "      <td>8</td>\n",
       "      <td>8</td>\n",
       "      <td>1284.0</td>\n",
       "      <td>0.000095</td>\n",
       "      <td>0.838558</td>\n",
       "      <td>0.005420</td>\n",
       "    </tr>\n",
       "    <tr>\n",
       "      <th>...</th>\n",
       "      <td>...</td>\n",
       "      <td>...</td>\n",
       "      <td>...</td>\n",
       "      <td>...</td>\n",
       "      <td>...</td>\n",
       "      <td>...</td>\n",
       "      <td>...</td>\n",
       "    </tr>\n",
       "    <tr>\n",
       "      <th>7557</th>\n",
       "      <td>Ravi</td>\n",
       "      <td>1</td>\n",
       "      <td>1</td>\n",
       "      <td>7560.0</td>\n",
       "      <td>0.000012</td>\n",
       "      <td>0.999893</td>\n",
       "      <td>0.000678</td>\n",
       "    </tr>\n",
       "    <tr>\n",
       "      <th>7564</th>\n",
       "      <td>uneventful</td>\n",
       "      <td>1</td>\n",
       "      <td>1</td>\n",
       "      <td>7561.0</td>\n",
       "      <td>0.000012</td>\n",
       "      <td>0.999905</td>\n",
       "      <td>0.000678</td>\n",
       "    </tr>\n",
       "    <tr>\n",
       "      <th>7563</th>\n",
       "      <td>bought</td>\n",
       "      <td>1</td>\n",
       "      <td>1</td>\n",
       "      <td>7562.0</td>\n",
       "      <td>0.000012</td>\n",
       "      <td>0.999917</td>\n",
       "      <td>0.000678</td>\n",
       "    </tr>\n",
       "    <tr>\n",
       "      <th>7567</th>\n",
       "      <td>nora</td>\n",
       "      <td>1</td>\n",
       "      <td>1</td>\n",
       "      <td>7563.0</td>\n",
       "      <td>0.000012</td>\n",
       "      <td>0.999929</td>\n",
       "      <td>0.000678</td>\n",
       "    </tr>\n",
       "    <tr>\n",
       "      <th>7560</th>\n",
       "      <td>tasted</td>\n",
       "      <td>1</td>\n",
       "      <td>1</td>\n",
       "      <td>7567.0</td>\n",
       "      <td>0.000012</td>\n",
       "      <td>0.999976</td>\n",
       "      <td>0.000678</td>\n",
       "    </tr>\n",
       "  </tbody>\n",
       "</table>\n",
       "<p>2076 rows × 7 columns</p>\n",
       "</div>"
      ],
      "text/plain": [
       "            word  appears_in  count    rank  pct_total  cul_pct_total  \\\n",
       "620          Meh          13     13   920.0   0.000154       0.793006   \n",
       "2072        Tall           3     12   996.0   0.000143       0.804350   \n",
       "1027      subpar          10     10  1117.0   0.000119       0.820147   \n",
       "70       Pop+art           4      8  1274.0   0.000095       0.837607   \n",
       "418         redo           8      8  1284.0   0.000095       0.838558   \n",
       "...          ...         ...    ...     ...        ...            ...   \n",
       "7557        Ravi           1      1  7560.0   0.000012       0.999893   \n",
       "7564  uneventful           1      1  7561.0   0.000012       0.999905   \n",
       "7563      bought           1      1  7562.0   0.000012       0.999917   \n",
       "7567        nora           1      1  7563.0   0.000012       0.999929   \n",
       "7560      tasted           1      1  7567.0   0.000012       0.999976   \n",
       "\n",
       "      appears_in_pct  \n",
       "620         0.008808  \n",
       "2072        0.002033  \n",
       "1027        0.006775  \n",
       "70          0.002710  \n",
       "418         0.005420  \n",
       "...              ...  \n",
       "7557        0.000678  \n",
       "7564        0.000678  \n",
       "7563        0.000678  \n",
       "7567        0.000678  \n",
       "7560        0.000678  \n",
       "\n",
       "[2076 rows x 7 columns]"
      ]
     },
     "execution_count": 119,
     "metadata": {},
     "output_type": "execute_result"
    }
   ],
   "source": [
    "bad_wc_sifted"
   ]
  },
  {
   "cell_type": "code",
   "execution_count": 140,
   "metadata": {},
   "outputs": [],
   "source": [
    "for i in range(len(bad_wc_sifted)):\n",
    "    bad_wc_sifted.iat[i,3] = (i+1)"
   ]
  },
  {
   "cell_type": "code",
   "execution_count": 141,
   "metadata": {},
   "outputs": [
    {
     "data": {
      "text/html": [
       "<div>\n",
       "<style scoped>\n",
       "    .dataframe tbody tr th:only-of-type {\n",
       "        vertical-align: middle;\n",
       "    }\n",
       "\n",
       "    .dataframe tbody tr th {\n",
       "        vertical-align: top;\n",
       "    }\n",
       "\n",
       "    .dataframe thead th {\n",
       "        text-align: right;\n",
       "    }\n",
       "</style>\n",
       "<table border=\"1\" class=\"dataframe\">\n",
       "  <thead>\n",
       "    <tr style=\"text-align: right;\">\n",
       "      <th></th>\n",
       "      <th>word</th>\n",
       "      <th>appears_in</th>\n",
       "      <th>count</th>\n",
       "      <th>rank</th>\n",
       "      <th>pct_total</th>\n",
       "      <th>cul_pct_total</th>\n",
       "      <th>appears_in_pct</th>\n",
       "    </tr>\n",
       "  </thead>\n",
       "  <tbody>\n",
       "    <tr>\n",
       "      <th>620</th>\n",
       "      <td>Meh</td>\n",
       "      <td>13</td>\n",
       "      <td>13</td>\n",
       "      <td>1.0</td>\n",
       "      <td>0.000154</td>\n",
       "      <td>0.793006</td>\n",
       "      <td>0.008808</td>\n",
       "    </tr>\n",
       "    <tr>\n",
       "      <th>2072</th>\n",
       "      <td>Tall</td>\n",
       "      <td>3</td>\n",
       "      <td>12</td>\n",
       "      <td>2.0</td>\n",
       "      <td>0.000143</td>\n",
       "      <td>0.804350</td>\n",
       "      <td>0.002033</td>\n",
       "    </tr>\n",
       "    <tr>\n",
       "      <th>1027</th>\n",
       "      <td>subpar</td>\n",
       "      <td>10</td>\n",
       "      <td>10</td>\n",
       "      <td>3.0</td>\n",
       "      <td>0.000119</td>\n",
       "      <td>0.820147</td>\n",
       "      <td>0.006775</td>\n",
       "    </tr>\n",
       "    <tr>\n",
       "      <th>70</th>\n",
       "      <td>Pop+art</td>\n",
       "      <td>4</td>\n",
       "      <td>8</td>\n",
       "      <td>4.0</td>\n",
       "      <td>0.000095</td>\n",
       "      <td>0.837607</td>\n",
       "      <td>0.002710</td>\n",
       "    </tr>\n",
       "    <tr>\n",
       "      <th>418</th>\n",
       "      <td>redo</td>\n",
       "      <td>8</td>\n",
       "      <td>8</td>\n",
       "      <td>5.0</td>\n",
       "      <td>0.000095</td>\n",
       "      <td>0.838558</td>\n",
       "      <td>0.005420</td>\n",
       "    </tr>\n",
       "    <tr>\n",
       "      <th>...</th>\n",
       "      <td>...</td>\n",
       "      <td>...</td>\n",
       "      <td>...</td>\n",
       "      <td>...</td>\n",
       "      <td>...</td>\n",
       "      <td>...</td>\n",
       "      <td>...</td>\n",
       "    </tr>\n",
       "    <tr>\n",
       "      <th>7557</th>\n",
       "      <td>Ravi</td>\n",
       "      <td>1</td>\n",
       "      <td>1</td>\n",
       "      <td>2072.0</td>\n",
       "      <td>0.000012</td>\n",
       "      <td>0.999893</td>\n",
       "      <td>0.000678</td>\n",
       "    </tr>\n",
       "    <tr>\n",
       "      <th>7564</th>\n",
       "      <td>uneventful</td>\n",
       "      <td>1</td>\n",
       "      <td>1</td>\n",
       "      <td>2073.0</td>\n",
       "      <td>0.000012</td>\n",
       "      <td>0.999905</td>\n",
       "      <td>0.000678</td>\n",
       "    </tr>\n",
       "    <tr>\n",
       "      <th>7563</th>\n",
       "      <td>bought</td>\n",
       "      <td>1</td>\n",
       "      <td>1</td>\n",
       "      <td>2074.0</td>\n",
       "      <td>0.000012</td>\n",
       "      <td>0.999917</td>\n",
       "      <td>0.000678</td>\n",
       "    </tr>\n",
       "    <tr>\n",
       "      <th>7567</th>\n",
       "      <td>nora</td>\n",
       "      <td>1</td>\n",
       "      <td>1</td>\n",
       "      <td>2075.0</td>\n",
       "      <td>0.000012</td>\n",
       "      <td>0.999929</td>\n",
       "      <td>0.000678</td>\n",
       "    </tr>\n",
       "    <tr>\n",
       "      <th>7560</th>\n",
       "      <td>tasted</td>\n",
       "      <td>1</td>\n",
       "      <td>1</td>\n",
       "      <td>2076.0</td>\n",
       "      <td>0.000012</td>\n",
       "      <td>0.999976</td>\n",
       "      <td>0.000678</td>\n",
       "    </tr>\n",
       "  </tbody>\n",
       "</table>\n",
       "<p>2076 rows × 7 columns</p>\n",
       "</div>"
      ],
      "text/plain": [
       "            word  appears_in  count    rank  pct_total  cul_pct_total  \\\n",
       "620          Meh          13     13     1.0   0.000154       0.793006   \n",
       "2072        Tall           3     12     2.0   0.000143       0.804350   \n",
       "1027      subpar          10     10     3.0   0.000119       0.820147   \n",
       "70       Pop+art           4      8     4.0   0.000095       0.837607   \n",
       "418         redo           8      8     5.0   0.000095       0.838558   \n",
       "...          ...         ...    ...     ...        ...            ...   \n",
       "7557        Ravi           1      1  2072.0   0.000012       0.999893   \n",
       "7564  uneventful           1      1  2073.0   0.000012       0.999905   \n",
       "7563      bought           1      1  2074.0   0.000012       0.999917   \n",
       "7567        nora           1      1  2075.0   0.000012       0.999929   \n",
       "7560      tasted           1      1  2076.0   0.000012       0.999976   \n",
       "\n",
       "      appears_in_pct  \n",
       "620         0.008808  \n",
       "2072        0.002033  \n",
       "1027        0.006775  \n",
       "70          0.002710  \n",
       "418         0.005420  \n",
       "...              ...  \n",
       "7557        0.000678  \n",
       "7564        0.000678  \n",
       "7563        0.000678  \n",
       "7567        0.000678  \n",
       "7560        0.000678  \n",
       "\n",
       "[2076 rows x 7 columns]"
      ]
     },
     "execution_count": 141,
     "metadata": {},
     "output_type": "execute_result"
    }
   ],
   "source": [
    "bad_wc_sifted"
   ]
  },
  {
   "cell_type": "code",
   "execution_count": 142,
   "metadata": {},
   "outputs": [
    {
     "data": {
      "image/png": "[encoded data removed]",
      "text/plain": [
       "<Figure size 432x288 with 1 Axes>"
      ]
     },
     "metadata": {
      "needs_background": "light"
     },
     "output_type": "display_data"
    }
   ],
   "source": [
    "bad_wc_top10 = bad_wc_sifted[bad_wc_sifted['rank'] <= 10]\n",
    "\n",
    "squarify.plot(sizes=bad_wc_top10['pct_total'], label=bad_wc_top10['word'], alpha=.8 )\n",
    "plt.axis('off')\n",
    "plt.show()"
   ]
  },
  {
   "cell_type": "code",
   "execution_count": null,
   "metadata": {},
   "outputs": [],
   "source": []
  },
  {
   "cell_type": "markdown",
   "metadata": {
    "colab_type": "text",
    "id": "1dCb1q8XphcP",
    "toc-hr-collapsed": true
   },
   "source": [
    "## Stretch Goals\n",
    "\n",
    "* Analyze another corpus of documents - such as Indeed.com job listings ;).\n",
    "* Play with the Spacy API to\n",
    " - Extract Named Entities\n",
    " - Extracting 'noun chunks'\n",
    " - Attempt Document Classification with just Spacy\n",
    " - *Note:* This [course](https://course.spacy.io/) will be of interesting in helping you with these stretch goals. \n",
    "* Try to build a plotly dash app with your text data \n",
    "\n"
   ]
  }
 ],
 "metadata": {
  "colab": {
   "collapsed_sections": [],
   "name": "LS_DS_421_Text_Data_Assignment.ipynb",
   "provenance": [],
   "version": "0.3.2"
  },
  "kernelspec": {
   "display_name": "U4-S1-NLP (Python3)",
   "language": "python",
   "name": "u4-s1-nlp"
  },
  "language_info": {
   "codemirror_mode": {
    "name": "ipython",
    "version": 3
   },
   "file_extension": ".py",
   "mimetype": "text/x-python",
   "name": "python",
   "nbconvert_exporter": "python",
   "pygments_lexer": "ipython3",
   "version": "3.7.0"
  },
  "toc-autonumbering": false
 },
 "nbformat": 4,
 "nbformat_minor": 4
}
